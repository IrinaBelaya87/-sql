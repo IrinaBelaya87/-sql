{
 "cells": [
  {
   "cell_type": "code",
   "execution_count": 15,
   "metadata": {},
   "outputs": [],
   "source": [
    "import datetime\n",
    "import logging\n",
    "import os\n",
    "from subprocess import call\n",
    "\n",
    "import numpy as np\n",
    "import pandas as pd\n",
    "\n",
    "\n",
    "logging.basicConfig(format='%(asctime)s : %(levelname)s : %(message)s', level=logging.INFO)\n",
    "logger = logging.getLogger(__name__)"
   ]
  },
  {
   "cell_type": "code",
   "execution_count": null,
   "metadata": {},
   "outputs": [],
   "source": [
    "engine = create_engine('postgresql://postgres:@{}'.format(os.environ['APP_POSTGRES_HOST']))\n"
   ]
  },
  {
   "cell_type": "code",
   "execution_count": null,
   "metadata": {},
   "outputs": [],
   "source": [
    "missions_df = pd.read_sql('SELECT * FROM missions', engine)\n",
    "logger.info(\"Таблица миссий\")\n",
    "print(missions.head())\n",
    "logger.info(\"Загрузили типы данных {}\".format(missions.dtypes))"
   ]
  },
  {
   "cell_type": "code",
   "execution_count": null,
   "metadata": {},
   "outputs": [],
   "source": [
    "dialogs_df = pd.read_sql('SELECT * FROM dialogs', engine)\n",
    "logger.info(\"Таблица диалогов\")\n",
    "print(dialogs.head())\n",
    "logger.info(\"Загрузили типы данных {}\".format(dialogs.dtypes))"
   ]
  },
  {
   "cell_type": "code",
   "execution_count": null,
   "metadata": {},
   "outputs": [],
   "source": [
    "persons_df = pd.read_sql('SELECT * FROM persons', engine)\n",
    "logger.info(\"Таблица персонажей\")\n",
    "print(persons.head())\n",
    "logger.info(\"Загрузили типы данных {}\".format(persons.dtypes))"
   ]
  },
  {
   "cell_type": "code",
   "execution_count": null,
   "metadata": {},
   "outputs": [],
   "source": [
    "maps_df = pd.read_sql('SELECT * FROM maps', engine)\n",
    "logger.info(\"Таблица карт\")\n",
    "print(maps.head())\n",
    "logger.info(\"Загрузили типы данных {}\".format(maps.dtypes))"
   ]
  },
  {
   "cell_type": "code",
   "execution_count": null,
   "metadata": {},
   "outputs": [],
   "source": [
    "call(\"bash /home/load_data.sh\", shell=True)\n",
    "\n",
    "engine = create_engine('postgresql://postgres:@{}'.format(os.environ['APP_POSTGRES_HOST']))"
   ]
  },
  {
   "cell_type": "code",
   "execution_count": null,
   "metadata": {},
   "outputs": [],
   "source": [
    "maps_df[(maps_df['widht'] == 50)&(maps_df['height'] == 50)].count()\n"
   ]
  },
  {
   "cell_type": "code",
   "execution_count": null,
   "metadata": {},
   "outputs": [],
   "source": [
    "dr=missions_df.merge(maps,how='inner', left_on='id_map', right_on='id').head()\n",
    "dr.groupby(['heros'>4])['mission_name','area'].describe(percentiles=[])"
   ]
  },
  {
   "cell_type": "code",
   "execution_count": null,
   "metadata": {
    "scrolled": true
   },
   "outputs": [],
   "source": [
    "dm=missions_df.merge(maps,how='inner', left_on='id_map', right_on='id').head()\n",
    "dm.groupby(['area']<4900)['id_map'].count()"
   ]
  }
 ],
 "metadata": {
  "kernelspec": {
   "display_name": "Python 3",
   "language": "python",
   "name": "python3"
  },
  "language_info": {
   "codemirror_mode": {
    "name": "ipython",
    "version": 3
   },
   "file_extension": ".py",
   "mimetype": "text/x-python",
   "name": "python",
   "nbconvert_exporter": "python",
   "pygments_lexer": "ipython3",
   "version": "3.6.5"
  }
 },
 "nbformat": 4,
 "nbformat_minor": 2
}
